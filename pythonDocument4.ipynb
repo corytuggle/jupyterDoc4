{
 "cells": [
  {
   "cell_type": "markdown",
   "metadata": {
    "id": "tzz5-Wnl6qaM"
   },
   "source": [
    "# Object-Oriented-Programming (OOP)"
   ]
  },
  {
   "cell_type": "markdown",
   "metadata": {
    "id": "u5kRIYx66qaO"
   },
   "source": [
    "## Tasks Today:\n",
    "\n",
    "   \n",
    "\n",
    "1) <b>Creating a Class (Initializing/Declaring)</b> <br>\n",
    "2) <b>Using a Class (Instantiating)</b> <br>\n",
    " &nbsp;&nbsp;&nbsp;&nbsp; a) Creating One Instance <br>\n",
    " &nbsp;&nbsp;&nbsp;&nbsp; b) Creating Multiple Instances <br>\n",
    " &nbsp;&nbsp;&nbsp;&nbsp; c) In-Class Exercise #1 - Create a Class 'Car' and instantiate three different makes of cars <br>\n",
    "3) <b>The \\__init\\__() Method</b> <br>\n",
    " &nbsp;&nbsp;&nbsp;&nbsp; a) The 'self' Attribute <br>\n",
    "4) <b>Class Attributes</b> <br>\n",
    " &nbsp;&nbsp;&nbsp;&nbsp; a) Initializing Attributes <br>\n",
    " &nbsp;&nbsp;&nbsp;&nbsp; b) Setting an Attribute Outside of the \\__init\\__() Method <br>\n",
    " &nbsp;&nbsp;&nbsp;&nbsp; c) Setting Defaults for Attributes <br>\n",
    " &nbsp;&nbsp;&nbsp;&nbsp; d) Accessing Class Attributes <br>\n",
    " &nbsp;&nbsp;&nbsp;&nbsp; e) Changing Class Attributes <br>\n",
    " &nbsp;&nbsp;&nbsp;&nbsp; f) In-Class Exercise #2 - Add a color and wheels attribute to your 'Car' class <br>\n",
    "5) <b>Class Methods</b> <br>\n",
    " &nbsp;&nbsp;&nbsp;&nbsp; a) Creating <br>\n",
    " &nbsp;&nbsp;&nbsp;&nbsp; b) Calling <br>\n",
    " &nbsp;&nbsp;&nbsp;&nbsp; c) Modifying an Attribute's Value Through a Method <br>\n",
    " &nbsp;&nbsp;&nbsp;&nbsp; d) Incrementing an Attribute's Value Through a Method <br>\n",
    " &nbsp;&nbsp;&nbsp;&nbsp; e) In-Class Exercise #3 - Add a method that prints the cars color and wheel number, then call them <br>\n",
    "6) <b>Inheritance</b> <br>\n",
    " &nbsp;&nbsp;&nbsp;&nbsp; a) Syntax for Inheriting from a Parent Class <br>\n",
    " &nbsp;&nbsp;&nbsp;&nbsp; b) The \\__init\\__() Method for a Child Class (super()) <br>\n",
    " &nbsp;&nbsp;&nbsp;&nbsp; c) Defining Attributes and Methods for the Child Class <br>\n",
    " &nbsp;&nbsp;&nbsp;&nbsp; d) Method Overriding <br>\n",
    " &nbsp;&nbsp;&nbsp;&nbsp; e) In-Class Exercise #4 - Create a class 'Ford' that inherits from 'Car' class and initialize it as a Blue Ford Explorer with 4 wheels using the super() method <br>\n",
    "7) <b>Classes as Attributes</b> <br>\n",
    "8) <b>Exercises</b> <br>\n",
    " &nbsp;&nbsp;&nbsp;&nbsp; a) Exercise #1 - Turn the shopping cart program from yesterday into an object-oriented program <br>"
   ]
  },
  {
   "cell_type": "markdown",
   "metadata": {
    "id": "bV1RNZTn6qaP"
   },
   "source": [
    "## Creating a Class (Initializing/Declaring)\n",
    "<p>When creating a class, function, or even a variable you are initializing that object. Initializing and Declaring occur at the same time in Python, whereas in lower level languages you have to declare an object before initializing it. This is the first step in the process of using a class.</p>"
   ]
  },
  {
   "cell_type": "code",
   "execution_count": 20,
   "metadata": {
    "executionInfo": {
     "elapsed": 307,
     "status": "ok",
     "timestamp": 1654400144143,
     "user": {
      "displayName": "Brandon Apol",
      "userId": "10984203036753147866"
     },
     "user_tz": 480
    },
    "id": "S7HPzAkZ6qaQ"
   },
   "outputs": [
    {
     "ename": "AttributeError",
     "evalue": "'Car' object has no attribute 'headlights'",
     "output_type": "error",
     "traceback": [
      "\u001b[1;31m---------------------------------------------------------------------------\u001b[0m",
      "\u001b[1;31mAttributeError\u001b[0m                            Traceback (most recent call last)",
      "Input \u001b[1;32mIn [20]\u001b[0m, in \u001b[0;36m<cell line: 10>\u001b[1;34m()\u001b[0m\n\u001b[0;32m      7\u001b[0m     \u001b[38;5;28mprint\u001b[39m(\u001b[38;5;124m'\u001b[39m\u001b[38;5;124mTurn them on for safety, don\u001b[39m\u001b[38;5;130;01m\\'\u001b[39;00m\u001b[38;5;124mt crash into a moose.\u001b[39m\u001b[38;5;124m'\u001b[39m)\n\u001b[0;32m      9\u001b[0m volkswagen \u001b[38;5;241m=\u001b[39m Car()\n\u001b[1;32m---> 10\u001b[0m \u001b[38;5;28mprint\u001b[39m(\u001b[43mvolkswagen\u001b[49m\u001b[38;5;241;43m.\u001b[39;49m\u001b[43mheadlights\u001b[49m())\n",
      "\u001b[1;31mAttributeError\u001b[0m: 'Car' object has no attribute 'headlights'"
     ]
    }
   ],
   "source": [
    "class Car():\n",
    "    wheels = 4\n",
    "    color = 'blue'\n",
    "    windshield_wipers = 'wee woo wee woo'\n",
    "    \n",
    "    def headlights():\n",
    "        print('Turn them on for safety, don\\'t crash into a moose.')\n",
    "        \n",
    "volkswagen = Car()\n",
    "volkswagen.headlights"
   ]
  },
  {
   "cell_type": "markdown",
   "metadata": {
    "id": "Bi4oK3Om6qaQ"
   },
   "source": [
    "## Using a Class (Instantiating)\n",
    "<p>The process of creating a class is called <i>Instantiating</i>. Each time you create a variable of that type of class, it is referred to as an <i>Instance</i> of that class. This is the second step in the process of using a class.</p>"
   ]
  },
  {
   "cell_type": "markdown",
   "metadata": {
    "id": "_WzS37Z_6qaR"
   },
   "source": [
    "##### Creating One Instance"
   ]
  },
  {
   "cell_type": "code",
   "execution_count": 9,
   "metadata": {
    "colab": {
     "base_uri": "https://localhost:8080/"
    },
    "executionInfo": {
     "elapsed": 306,
     "status": "ok",
     "timestamp": 1654400232968,
     "user": {
      "displayName": "Brandon Apol",
      "userId": "10984203036753147866"
     },
     "user_tz": 480
    },
    "id": "GNpeQ4056qaR",
    "outputId": "75a86f8c-980c-438f-dc34-fd9ed4b00c55"
   },
   "outputs": [
    {
     "name": "stdout",
     "output_type": "stream",
     "text": [
      "wee woo wee woo\n"
     ]
    }
   ],
   "source": [
    "ford = Car()\n",
    "\n",
    "print(ford.windshield_wipers)"
   ]
  },
  {
   "cell_type": "markdown",
   "metadata": {
    "id": "5UTTxfbq6qaS"
   },
   "source": [
    "##### Creating Multiple Instances"
   ]
  },
  {
   "cell_type": "code",
   "execution_count": 21,
   "metadata": {
    "colab": {
     "base_uri": "https://localhost:8080/",
     "height": 218
    },
    "executionInfo": {
     "elapsed": 276,
     "status": "error",
     "timestamp": 1654400319844,
     "user": {
      "displayName": "Brandon Apol",
      "userId": "10984203036753147866"
     },
     "user_tz": 480
    },
    "id": "vvNgCYxM6qaS",
    "outputId": "694d656d-da72-4748-b400-e1a62bca93fd"
   },
   "outputs": [
    {
     "name": "stdout",
     "output_type": "stream",
     "text": [
      "<class 'str'>\n"
     ]
    }
   ],
   "source": [
    "chevrolet = Car()\n",
    "honda = Car()\n",
    "porsche = Car()\n",
    "\n",
    "print(type(porsche.color))\n",
    "# print(porshche.bumper)"
   ]
  },
  {
   "cell_type": "markdown",
   "metadata": {
    "id": "Nkie3MQN6qaS"
   },
   "source": [
    "##### In-Class Exercise #1 - Create a Class 'Car' and Instantiate three different makes of cars"
   ]
  },
  {
   "cell_type": "code",
   "execution_count": 13,
   "metadata": {
    "id": "l_CiL6xs6qaS"
   },
   "outputs": [
    {
     "name": "stdout",
     "output_type": "stream",
     "text": [
      "manual\n",
      "green\n",
      "1500\n"
     ]
    }
   ],
   "source": [
    "class Truck():\n",
    "    doors = 2\n",
    "    color = 'green'\n",
    "    wheels = 4\n",
    "    transmission = 'manual'\n",
    "    ccs = '1500'\n",
    "    \n",
    "toyota = Truck()\n",
    "dodge = Truck()\n",
    "chevy = Truck()\n",
    "\n",
    "print(toyota.transmission)\n",
    "print(dodge.color)\n",
    "print(chevy.ccs)"
   ]
  },
  {
   "cell_type": "markdown",
   "metadata": {
    "id": "4I9QMKHT6qaS"
   },
   "source": [
    "## The \\__init\\__() Method <br>\n",
    "<p>This method is used in almost every created class, and called only once upon the creation of the class instance. This method will initialize all variables needed for the object.</p>"
   ]
  },
  {
   "cell_type": "code",
   "execution_count": 25,
   "metadata": {
    "colab": {
     "base_uri": "https://localhost:8080/"
    },
    "executionInfo": {
     "elapsed": 297,
     "status": "ok",
     "timestamp": 1654400605284,
     "user": {
      "displayName": "Brandon Apol",
      "userId": "10984203036753147866"
     },
     "user_tz": 480
    },
    "id": "A4mXk-5v6qaT",
    "outputId": "ac218617-dc13-4856-aeaf-b8afe334d484"
   },
   "outputs": [
    {
     "name": "stdout",
     "output_type": "stream",
     "text": [
      "black\n",
      "blue\n",
      "4\n",
      "6\n"
     ]
    }
   ],
   "source": [
    "class Car():\n",
    "    engine = '4.7L' # Global within class - any method inside the class can call upon this variable\n",
    "    \n",
    "    def __init__ (self, color, wheels):\n",
    "        self.color = color\n",
    "        self.wheels = wheels\n",
    "        \n",
    "    \n",
    "mazda = Car('black', 4)\n",
    "subaru = Car('blue', 6)\n",
    "\n",
    "print(mazda.color)\n",
    "print(subaru.color)\n",
    "print(mazda.wheels)\n",
    "print(subaru.wheels)"
   ]
  },
  {
   "cell_type": "markdown",
   "metadata": {
    "id": "E3FhAPyW6qaT"
   },
   "source": [
    "##### The 'self' Attribute <br>\n",
    "<p>This attribute is required to keep track of specific instance's attributes. Without the self attribute, the program would not know how to reference or keep track of an instance's attributes.</p>"
   ]
  },
  {
   "cell_type": "code",
   "execution_count": 26,
   "metadata": {
    "id": "gqlafbUx6qaT"
   },
   "outputs": [
    {
     "ename": "AttributeError",
     "evalue": "'Car' object has no attribute 'color'",
     "output_type": "error",
     "traceback": [
      "\u001b[1;31m---------------------------------------------------------------------------\u001b[0m",
      "\u001b[1;31mAttributeError\u001b[0m                            Traceback (most recent call last)",
      "Input \u001b[1;32mIn [26]\u001b[0m, in \u001b[0;36m<cell line: 14>\u001b[1;34m()\u001b[0m\n\u001b[0;32m     11\u001b[0m mazda \u001b[38;5;241m=\u001b[39m Car(\u001b[38;5;124m'\u001b[39m\u001b[38;5;124mblack\u001b[39m\u001b[38;5;124m'\u001b[39m, \u001b[38;5;241m4\u001b[39m)\n\u001b[0;32m     12\u001b[0m subaru \u001b[38;5;241m=\u001b[39m Car(\u001b[38;5;124m'\u001b[39m\u001b[38;5;124mblue\u001b[39m\u001b[38;5;124m'\u001b[39m, \u001b[38;5;241m6\u001b[39m)\n\u001b[1;32m---> 14\u001b[0m \u001b[38;5;28mprint\u001b[39m(\u001b[43mmazda\u001b[49m\u001b[38;5;241;43m.\u001b[39;49m\u001b[43mcolor\u001b[49m)\n\u001b[0;32m     15\u001b[0m \u001b[38;5;28mprint\u001b[39m(subaru\u001b[38;5;241m.\u001b[39mcolor)\n\u001b[0;32m     16\u001b[0m \u001b[38;5;28mprint\u001b[39m(mazda\u001b[38;5;241m.\u001b[39mwheels)\n",
      "\u001b[1;31mAttributeError\u001b[0m: 'Car' object has no attribute 'color'"
     ]
    }
   ],
   "source": [
    "# see above\n",
    "\n",
    "class Car():\n",
    "    engine = '4.7L' # Global within class - any method inside the class can call upon this variable\n",
    "    \n",
    "    def __init__ (self, color, wheels):\n",
    "        color = color\n",
    "        self.wheels = wheels\n",
    "        \n",
    "    \n",
    "mazda = Car('black', 4)\n",
    "subaru = Car('blue', 6)\n",
    "\n",
    "print(mazda.color)\n",
    "print(subaru.color)\n",
    "print(mazda.wheels)\n",
    "print(subaru.wheels)"
   ]
  },
  {
   "cell_type": "markdown",
   "metadata": {
    "id": "rTd9cgBn6qaT"
   },
   "source": [
    "## Class Attributes <br>\n",
    "<p>While variables are inside of a class, they are referred to as attributes and not variables. When someone says 'attribute' you know they're speaking about a class. Attributes can be initialized through the init method, or outside of it.</p>"
   ]
  },
  {
   "cell_type": "markdown",
   "metadata": {
    "id": "sXSQitFB6qaT"
   },
   "source": [
    "##### Initializing Attributes"
   ]
  },
  {
   "cell_type": "code",
   "execution_count": 27,
   "metadata": {
    "executionInfo": {
     "elapsed": 263,
     "status": "ok",
     "timestamp": 1654400961508,
     "user": {
      "displayName": "Brandon Apol",
      "userId": "10984203036753147866"
     },
     "user_tz": 480
    },
    "id": "gFrutSJ96qaT"
   },
   "outputs": [],
   "source": [
    "# see above\n",
    "\n",
    "class Toy():\n",
    "  kind = 'car'\n",
    "\n",
    "  def __init__(self, rooftop, horn, wheels):\n",
    "    self.rooftop = rooftop # These are our attributes\n",
    "    self.horn = horn\n",
    "    self.wheels = wheels\n",
    "\n",
    "tonka_truck = Toy(1,1, 4)\n",
    "hotwheels_car = Toy(2,3,8)\n"
   ]
  },
  {
   "cell_type": "markdown",
   "metadata": {
    "id": "5qEDs3Ef6qaU"
   },
   "source": [
    "##### Accessing Class Attributes"
   ]
  },
  {
   "cell_type": "code",
   "execution_count": 29,
   "metadata": {
    "colab": {
     "base_uri": "https://localhost:8080/"
    },
    "executionInfo": {
     "elapsed": 336,
     "status": "ok",
     "timestamp": 1654401000610,
     "user": {
      "displayName": "Brandon Apol",
      "userId": "10984203036753147866"
     },
     "user_tz": 480
    },
    "id": "9Uo5umjk6qaU",
    "outputId": "5187dd0d-2ac2-48dd-8be2-b3d10e145241",
    "scrolled": true
   },
   "outputs": [
    {
     "data": {
      "text/plain": [
       "8"
      ]
     },
     "execution_count": 29,
     "metadata": {},
     "output_type": "execute_result"
    }
   ],
   "source": [
    "# See Above\n",
    "tonka_truck.rooftop\n",
    "hotwheels_car.wheels"
   ]
  },
  {
   "cell_type": "markdown",
   "metadata": {
    "id": "589n2bfI6qaU"
   },
   "source": [
    "##### Setting Defaults for Attributes"
   ]
  },
  {
   "cell_type": "code",
   "execution_count": 30,
   "metadata": {
    "colab": {
     "base_uri": "https://localhost:8080/"
    },
    "executionInfo": {
     "elapsed": 291,
     "status": "ok",
     "timestamp": 1654401207595,
     "user": {
      "displayName": "Brandon Apol",
      "userId": "10984203036753147866"
     },
     "user_tz": 480
    },
    "id": "xbpERQEX6qaU",
    "outputId": "b8c54225-fdc5-4ae4-eda9-8d588a17b2f5"
   },
   "outputs": [
    {
     "name": "stdout",
     "output_type": "stream",
     "text": [
      "Blue\n"
     ]
    }
   ],
   "source": [
    "class Car():\n",
    "    engine = '4.7L' # << CONSTANT\n",
    "    \n",
    "    def __init__(self,wheels):\n",
    "      self.wheels = wheels\n",
    "      self.color = 'Blue' # Cannot overwrite!\n",
    "\n",
    "honda = Car(4)\n",
    "print(honda.color)"
   ]
  },
  {
   "cell_type": "markdown",
   "metadata": {
    "id": "ir8k02ZE6qaU"
   },
   "source": [
    "##### Changing Class Attributes <br>\n",
    "<p>Keep in mind there are global class attributes and then there are attributes only available to each class instance which won't effect other classes.</p>"
   ]
  },
  {
   "cell_type": "code",
   "execution_count": 32,
   "metadata": {
    "id": "RfGZ5kbu6qaU"
   },
   "outputs": [
    {
     "name": "stdout",
     "output_type": "stream",
     "text": [
      "Before change: Blue\n",
      "After change: White\n",
      "Blue\n"
     ]
    }
   ],
   "source": [
    "jeep = Car(8)\n",
    "print(f'Before change: {jeep.color}')\n",
    "\n",
    "jeep.color = 'White'\n",
    "\n",
    "print(f'After change: {jeep.color}')\n",
    "print(honda.color)"
   ]
  },
  {
   "cell_type": "code",
   "execution_count": null,
   "metadata": {
    "id": "zeppI2y-6qaU"
   },
   "outputs": [],
   "source": []
  },
  {
   "cell_type": "markdown",
   "metadata": {
    "id": "omwSVPyN6qaU"
   },
   "source": [
    "##### In-Class Exercise #2 - Add a doors and seats attribute to your 'Car' class then print out two different instances with different doors and seats"
   ]
  },
  {
   "cell_type": "code",
   "execution_count": 36,
   "metadata": {
    "id": "fyKwSeJg6qaU"
   },
   "outputs": [
    {
     "name": "stdout",
     "output_type": "stream",
     "text": [
      "4\n",
      "5\n",
      "2\n",
      "4\n"
     ]
    }
   ],
   "source": [
    "class Car():\n",
    "    \n",
    "    def __init__(self, doors, seats):\n",
    "        self.doors = doors\n",
    "        self.seats = seats\n",
    "\n",
    "honda = Car(4, 5)\n",
    "mazda = Car(2, 4)\n",
    "\n",
    "print(honda.doors)\n",
    "print(honda.seats)\n",
    "\n",
    "print(mazda.doors)\n",
    "print(mazda.seats)"
   ]
  },
  {
   "cell_type": "markdown",
   "metadata": {
    "id": "2cAd7L9I6qaU"
   },
   "source": [
    "## Class Methods <br>\n",
    "<p>While inside of a class, functions are referred to as 'methods'. If you hear someone mention methods, they're speaking about classes. Methods are essentially functions, but only callable on the instances of a class.</p>"
   ]
  },
  {
   "cell_type": "markdown",
   "metadata": {
    "id": "GpY6_Yz56qaU"
   },
   "source": [
    "##### Creating"
   ]
  },
  {
   "cell_type": "code",
   "execution_count": 77,
   "metadata": {
    "executionInfo": {
     "elapsed": 260,
     "status": "ok",
     "timestamp": 1654402995715,
     "user": {
      "displayName": "Brandon Apol",
      "userId": "10984203036753147866"
     },
     "user_tz": 480
    },
    "id": "DuiDzP1p6qaU"
   },
   "outputs": [],
   "source": [
    "class ShoppingBag():\n",
    "    '''\n",
    "        The ShoppingBag class willhave handles, capacity,\n",
    "        and items to place inside.\n",
    "        \n",
    "        Attributes for the class:\n",
    "        - handles: expected to be an integer\n",
    "        - capacity: expected to be a string or an integer\n",
    "        - items: expected to be a list\n",
    "    '''\n",
    "    \n",
    "    def __init__(self, handles, capacity, items):\n",
    "        self.handles = handles\n",
    "        self.capacity = capacity\n",
    "        self.items = items\n",
    "        \n",
    "    # Write a method that shows the items in our ShoppingBag\n",
    "    # this our items list\n",
    "    def showShoppingBag(self):\n",
    "        print('You have items in your bag.')\n",
    "        for item in self.items:\n",
    "            print(item)\n",
    "            \n",
    "    # Show the capacity of ShoppingBag - how much room is left\n",
    "    def showCapacity(self):\n",
    "        print(f'Your capacity is: {self.capacity}')\n",
    "        \n",
    "    # Add items to the items list for the ShoppingBag\n",
    "    def addToShoppingBag(self):\n",
    "        products = input('What would you like to add? ')\n",
    "        self.items.append(products)\n",
    "        \n",
    "    # Change capacity of the shopping bag\n",
    "    def changeBagCapacity(self, capacity):\n",
    "        self.capacity = capacity\n",
    "        \n",
    "    # Increase the capacity of the ShoppingBag by a default amount\n",
    "    # (that we set to 10)    \n",
    "    def increaseCapacity(self, changed_capacity = 10):\n",
    "        if self.capacity == isinstance(self.capacity, str):\n",
    "            print('We can\\'t add that here.')\n",
    "        else:\n",
    "            self.capacity += changed_capacity"
   ]
  },
  {
   "cell_type": "markdown",
   "metadata": {
    "id": "jLqPPUlV6qaU"
   },
   "source": [
    "##### Calling"
   ]
  },
  {
   "cell_type": "code",
   "execution_count": 52,
   "metadata": {
    "colab": {
     "base_uri": "https://localhost:8080/"
    },
    "executionInfo": {
     "elapsed": 48652,
     "status": "ok",
     "timestamp": 1654403046490,
     "user": {
      "displayName": "Brandon Apol",
      "userId": "10984203036753147866"
     },
     "user_tz": 480
    },
    "id": "dQJXHGDp6qaU",
    "outputId": "766e54ef-853c-4e8e-b0d1-e793f1f06323"
   },
   "outputs": [
    {
     "name": "stdout",
     "output_type": "stream",
     "text": [
      "What do you want to do? add/show/quit quit\n",
      "You have items in your bag.\n",
      "Thanks for shopping!\n"
     ]
    }
   ],
   "source": [
    "# See Above\n",
    "# So far we created the idea of the ShoppingBag\n",
    "# Now we'll actually instantiate and MAKE one, and use it!\n",
    "\n",
    "grocery_bag = ShoppingBag(2, 10, [])\n",
    "\n",
    "# Create a function to run the ShoppingBag methods on our grocery_bag instance\n",
    "\n",
    "def run():\n",
    "    while True:\n",
    "        response = input('What do you want to do? add/show/quit ')\n",
    "        \n",
    "        if response.lower() == 'quit':\n",
    "            grocery_bag.showShoppingBag()\n",
    "            print('Thanks for shopping!')\n",
    "            break\n",
    "        elif response.lower() == 'add':\n",
    "            grocery_bag.addToShoppingBag()\n",
    "        elif response.lower() == 'show':\n",
    "            grocery_bag.showShoppingBag()\n",
    "        else:\n",
    "            print('Try another command.')\n",
    "            \n",
    "run()"
   ]
  },
  {
   "cell_type": "markdown",
   "metadata": {
    "id": "zKvlDgTo6qaV"
   },
   "source": [
    "##### Modifying an Attribute's Value Through a Method"
   ]
  },
  {
   "cell_type": "code",
   "execution_count": 65,
   "metadata": {
    "id": "9M6x0qsk6qaV"
   },
   "outputs": [
    {
     "name": "stdout",
     "output_type": "stream",
     "text": [
      "Your capacity is: 40\n",
      "Capacity AFTER the change...\n",
      "Your capacity is: 40\n"
     ]
    }
   ],
   "source": [
    "# Show the capacity\n",
    "grocery_bag.showCapacity()\n",
    "print('Capacity AFTER the change...')\n",
    "\n",
    "grocery_bag.changeBagCapacity(40)\n",
    "grocery_bag.showCapacity()\n"
   ]
  },
  {
   "cell_type": "markdown",
   "metadata": {
    "id": "s1eIpLA76qaV"
   },
   "source": [
    "##### Incrementing an Attribute's Value Through a Method"
   ]
  },
  {
   "cell_type": "code",
   "execution_count": 222,
   "metadata": {
    "id": "DBQ07qOI6qaV",
    "scrolled": true
   },
   "outputs": [
    {
     "name": "stdout",
     "output_type": "stream",
     "text": [
      "Your capacity is: 40\n",
      "After increase: \n"
     ]
    },
    {
     "ename": "AttributeError",
     "evalue": "'ShoppingBag' object has no attribute 'increaseCapacity'",
     "output_type": "error",
     "traceback": [
      "\u001b[1;31m---------------------------------------------------------------------------\u001b[0m",
      "\u001b[1;31mAttributeError\u001b[0m                            Traceback (most recent call last)",
      "Input \u001b[1;32mIn [222]\u001b[0m, in \u001b[0;36m<cell line: 4>\u001b[1;34m()\u001b[0m\n\u001b[0;32m      1\u001b[0m grocery_bag\u001b[38;5;241m.\u001b[39mshowCapacity()\n\u001b[0;32m      2\u001b[0m \u001b[38;5;28mprint\u001b[39m(\u001b[38;5;124m'\u001b[39m\u001b[38;5;124mAfter increase: \u001b[39m\u001b[38;5;124m'\u001b[39m)\n\u001b[1;32m----> 4\u001b[0m \u001b[43mgrocery_bag\u001b[49m\u001b[38;5;241;43m.\u001b[39;49m\u001b[43mincreaseCapacity\u001b[49m()\n\u001b[0;32m      5\u001b[0m grocery_bag\u001b[38;5;241m.\u001b[39mshowCapacity\n",
      "\u001b[1;31mAttributeError\u001b[0m: 'ShoppingBag' object has no attribute 'increaseCapacity'"
     ]
    }
   ],
   "source": [
    "grocery_bag.showCapacity()\n",
    "print('After increase: ')\n",
    "\n",
    "grocery_bag.increaseCapacity()\n",
    "grocery_bag.showCapacity\n",
    "\n",
    "\n",
    "### WHAT AM I MISSING?###"
   ]
  },
  {
   "cell_type": "markdown",
   "metadata": {
    "id": "3OnGbPMg6qaV"
   },
   "source": [
    "##### In-Class Exercise #3 - Add a method that takes in three parameters of year, doors and seats and prints out a formatted print statement with make, model, year, seats, and doors"
   ]
  },
  {
   "cell_type": "code",
   "execution_count": 151,
   "metadata": {
    "id": "njxbIERD6qaV"
   },
   "outputs": [
    {
     "name": "stdout",
     "output_type": "stream",
     "text": [
      "What year is your vehicle? 2019\n",
      "How many doors does your vehicle have? 4\n",
      "And how many seats does your vehicle have? 5\n",
      "This car is from 2019 and is a Ford Explorer and has 4 doors and 5 seats.\n"
     ]
    }
   ],
   "source": [
    "# Create class with 2 paramters inside of the __init__ which are make and model\n",
    "\n",
    "class YourCar():\n",
    "    \n",
    "    def __init__(self, make, model):\n",
    "        self.make = make\n",
    "        self.model = model\n",
    "\n",
    "# Inside of the Car class create a method that has 4 parameter in total (self,year,door,seats)\n",
    "\n",
    "    def carInfo(self):        \n",
    "        year = input('What year is your vehicle? ')\n",
    "        self.year = year\n",
    "        door = input('How many doors does your vehicle have? ')\n",
    "        self.door = door        \n",
    "        seat = input('And how many seats does your vehicle have? ')\n",
    "        self.seat = seat\n",
    "\n",
    "# Output: This car is from 2019 and is a Ford Expolorer and has 4 doors and 5 seats\n",
    "\n",
    "    \n",
    "def showCar():\n",
    "        print(f'This car is from {car.year} and is a {car.make} {car.model} and has {car.door} doors and {car.seat} seats.')\n",
    "        \n",
    "        \n",
    "        \n",
    "car = YourCar('Ford', 'Explorer')\n",
    "car.carInfo()\n",
    "showCar()\n"
   ]
  },
  {
   "cell_type": "markdown",
   "metadata": {
    "id": "dwpcygAo6qaV"
   },
   "source": [
    "## Inheritance <br>\n",
    "<p>You can create a child-parent relationship between two classes by using inheritance. What this allows you to do is have overriding methods, but also inherit traits from the parent class. Think of it as an actual parent and child, the child will inherit the parent's genes, as will the classes in OOP</p>"
   ]
  },
  {
   "cell_type": "markdown",
   "metadata": {
    "id": "RxjwbuIl6qaV"
   },
   "source": [
    "##### Syntax for Inheriting from a Parent Class"
   ]
  },
  {
   "cell_type": "code",
   "execution_count": 170,
   "metadata": {
    "id": "fVjKab2o6qaV"
   },
   "outputs": [
    {
     "name": "stdout",
     "output_type": "stream",
     "text": [
      "Bark\n",
      "Make some generic sound\n",
      "None\n",
      "9.8\n",
      "15\n"
     ]
    }
   ],
   "source": [
    "# Create a parent class and call it animal\n",
    "class Animal():\n",
    "    acceleration = 9.8\n",
    "    \n",
    "    def __init__(self, name, species, legs = 4):\n",
    "        self.name = name\n",
    "        self.species = species\n",
    "        self.legs = legs\n",
    "        \n",
    "    # Make a generic parent method - this does not override anything\n",
    "    def makeSound(self):\n",
    "        print('Make some generic sound')\n",
    "        \n",
    "# Creation of our Child class : Dog\n",
    "class Dog(Animal):\n",
    "    speed = 15\n",
    "    \n",
    "    def printInfo(self):\n",
    "        print(f'The dog has {self.speed}mph in speed and {self.acceleration}.')\n",
    "        \n",
    "# Creation of our grandchild class : Mutt\n",
    "class Mutt(Dog):\n",
    "    color = 'Tan'\n",
    "    \n",
    "    # Override the Animal class - using the Dog class to overwrite the __init__ for Animal\n",
    "    def __init__(self, name, species, eye_color, legs = 4):\n",
    "        Dog.__init__(self, name, species, legs)\n",
    "        self.eye_color = eye_color\n",
    "        \n",
    "    # Override the makeSound method(which is coming from Animal)\n",
    "    def makeSound(self):\n",
    "        noise = 'Bark'\n",
    "        return noise\n",
    "    \n",
    "lassie = Dog('Lassie', 'Dog')\n",
    "basic_animal = Animal('Generic Animal Name', 'Generic Animal Species')\n",
    "buster = Mutt('Buster', 'Mutt', 'Brown')\n",
    "\n",
    "print(buster.makeSound())\n",
    "print(lassie.makeSound())\n",
    "print(buster.acceleration)\n",
    "# print(basic_animal.speed) # will not print - has no attribute speed\n",
    "print(buster.speed)"
   ]
  },
  {
   "cell_type": "code",
   "execution_count": null,
   "metadata": {
    "id": "fVjKab2o6qaV"
   },
   "outputs": [],
   "source": []
  },
  {
   "cell_type": "markdown",
   "metadata": {
    "id": "gW-PNDG66qaV"
   },
   "source": [
    "##### The \\__init\\__() Method for a Child Class - super()"
   ]
  },
  {
   "cell_type": "code",
   "execution_count": 172,
   "metadata": {
    "id": "kfA6mVBq6qaV",
    "scrolled": true
   },
   "outputs": [
    {
     "name": "stdout",
     "output_type": "stream",
     "text": [
      "Bark\n",
      "Make some generic sound\n",
      "None\n",
      "9.8\n",
      "15\n"
     ]
    }
   ],
   "source": [
    "class Puppy(Dog):\n",
    "    color = 'Black and brown'\n",
    "    \n",
    "    # Override the Animal class __init__ (via Dog class)\n",
    "    def __init__(self, name, species, eye_color, legs = 4):\n",
    "        super().__init__(name, species, legs)\n",
    "        self.eye_color = eye_Color\n",
    "        \n",
    "        #Override the makeSound method (from the Animal class)\n",
    "        def makeSound(self):\n",
    "            noise = 'bark'\n",
    "            return noise\n",
    "        \n",
    "lassie = Dog('Lassie', 'Dog')\n",
    "basic_animal = Animal('Generic Animal Name', 'Generic Animal Species')\n",
    "buster = Mutt('Buster', 'Mutt', 'Brown')\n",
    "\n",
    "print(buster.makeSound())\n",
    "print(lassie.makeSound())\n",
    "print(buster.acceleration)\n",
    "# print(basic_animal.speed) # will not print - has no attribute speed\n",
    "print(buster.speed)"
   ]
  },
  {
   "cell_type": "markdown",
   "metadata": {
    "id": "XUO6XcM46qaV"
   },
   "source": [
    "##### Defining Attributes and Methods for the Child Class"
   ]
  },
  {
   "cell_type": "code",
   "execution_count": null,
   "metadata": {
    "id": "V2icaoLM6qaV"
   },
   "outputs": [],
   "source": [
    "# See Above"
   ]
  },
  {
   "cell_type": "markdown",
   "metadata": {
    "id": "9Rr2MZdB6qaV"
   },
   "source": [
    "##### Method Overriding"
   ]
  },
  {
   "cell_type": "code",
   "execution_count": null,
   "metadata": {
    "id": "r67j7Np96qaV"
   },
   "outputs": [],
   "source": [
    "# See Above"
   ]
  },
  {
   "cell_type": "markdown",
   "metadata": {
    "id": "2x6DBjcJ6qaV"
   },
   "source": [
    "## Classes as Attributes <br>\n",
    "<p>Classes can also be used as attributes within another class. This is useful in situations where you need to keep variables locally stored, instead of globally stored.</p>"
   ]
  },
  {
   "cell_type": "code",
   "execution_count": 176,
   "metadata": {
    "id": "yJ4rQuLP6qaV"
   },
   "outputs": [
    {
     "name": "stdout",
     "output_type": "stream",
     "text": [
      "20\n"
     ]
    },
    {
     "data": {
      "text/plain": [
       "'2019 Subaru Outback 20'"
      ]
     },
     "execution_count": 176,
     "metadata": {},
     "output_type": "execute_result"
    }
   ],
   "source": [
    "class Battery():\n",
    "    volts = 7.8\n",
    "    \n",
    "    def __init__(self, cells):\n",
    "        self.cells = cells\n",
    "        \n",
    "class Car():\n",
    "    def __init__(self, year, make, model, battery):\n",
    "        self.year = year\n",
    "        self.make = make\n",
    "        self.model = model\n",
    "        self.battery = battery\n",
    "        \n",
    "    def printInfo(self):\n",
    "        return f'{self.year} {self.make} {self.model} {self.battery.cells}'\n",
    "        \n",
    "my_battery = Battery(20)\n",
    "\n",
    "subaru = Car(2019, 'Subaru', 'Outback', my_battery)\n",
    "\n",
    "print(subaru.battery.cells)\n",
    "subaru.printInfo()"
   ]
  },
  {
   "cell_type": "markdown",
   "metadata": {
    "id": "0TaDNag56qaV"
   },
   "source": [
    "# Exercises"
   ]
  },
  {
   "cell_type": "markdown",
   "metadata": {
    "id": "OmiCVOuc6qaV"
   },
   "source": [
    "### Exercise 1 - Turn the shopping cart program from yesterday into an object-oriented program\n",
    "\n",
    "The comments in the cell below are there as a guide for thinking about the problem. However, if you feel a different way is best for you and your own thought process, please do what feels best for you by all means."
   ]
  },
  {
   "cell_type": "code",
   "execution_count": 200,
   "metadata": {
    "id": "nIJiQUSl6qaW"
   },
   "outputs": [
    {
     "name": "stdout",
     "output_type": "stream",
     "text": [
      "\n",
      "What do you want to do? enter:(show/add/remove/quit) quit\n",
      "\n",
      "These are the items currently in your cart:\n",
      "You may purchase these items through our register.\n"
     ]
    }
   ],
   "source": [
    "class Cart():\n",
    "    \n",
    "    def __init__(self, items):\n",
    "        self.items = items\n",
    "\n",
    "    def addCart(self):\n",
    "        while True:\n",
    "            add_item = input('\\nWhat would you like to add to your cart?\\n(you may enter \"return\" to go back) ')\n",
    "            if add_item == 'return':\n",
    "                return False\n",
    "                goShopping()\n",
    "            else:\n",
    "                self.items.append(add_item)\n",
    "           \n",
    "    def showCart(self):\n",
    "        print('\\nThese are the items currently in your cart:')\n",
    "        for item in self.items:\n",
    "            print(item)    \n",
    "            \n",
    "    def remCart(self):\n",
    "        print('\\nThese are the items in your cart:')\n",
    "        print(self.items)\n",
    "        while True:\n",
    "            rem_item = input('\\nWhat would you like to remove from your cart?\\n(you may enter \"return\" to go back) ')\n",
    "            if rem_item == 'return':\n",
    "                return False\n",
    "                goShopping()\n",
    "            elif rem_item not in self.items:\n",
    "                print('That item is not in your cart.\\nPlease make another selection. ')\n",
    "                pass\n",
    "            else:\n",
    "                self.items.remove(rem_item)\n",
    "        \n",
    "    \n",
    "your_cart = Cart([])    \n",
    "\n",
    "def goShopping():\n",
    "    while True:\n",
    "        option = input('\\nWhat do you want to do? enter:(show/add/remove/quit) ')\n",
    "\n",
    "        if option.lower() == 'quit':\n",
    "            your_cart.showCart()\n",
    "            print('You may purchase these items through our register.')\n",
    "            break\n",
    "        elif option.lower() == 'show':\n",
    "            your_cart.showCart()\n",
    "        elif option.lower() == 'add':\n",
    "            your_cart.addCart()\n",
    "        elif option.lower() =='remove':\n",
    "            your_cart.remCart()\n",
    "        else:\n",
    "            print('I\\'m sorry, I don\\'t understand that option. \\nPlease try another.')\n",
    "            \n",
    "goShopping()\n",
    "            "
   ]
  },
  {
   "cell_type": "markdown",
   "metadata": {
    "id": "X7uS68a06qaW"
   },
   "source": [
    "### Exercise 2 - Write a Python class which has two methods get_String and print_String. get_String accept a string from the user and print_String print the string in upper case"
   ]
  },
  {
   "cell_type": "code",
   "execution_count": 220,
   "metadata": {
    "id": "WdrwThy96qaW"
   },
   "outputs": [
    {
     "name": "stdout",
     "output_type": "stream",
     "text": [
      "\n",
      "What do you want to do?\n",
      "enter:(add/print/quit) add\n",
      "\n",
      "What is your 'string'?\n",
      "(only a string will be accepted)\n",
      "(enter 'return' to go back) hello\n",
      "\n",
      "What is your 'string'?\n",
      "(only a string will be accepted)\n",
      "(enter 'return' to go back) return\n",
      "\n",
      "What do you want to do?\n",
      "enter:(add/print/quit) print\n",
      "HELLO\n"
     ]
    }
   ],
   "source": [
    "### And now I can't figrue out the float bug\n",
    "# but it add floats to the list during my \"try/except\" portion of code\n",
    "\n",
    "class Strings():\n",
    "    \n",
    "    def __init__(self, strings):\n",
    "        self.strings = strings\n",
    "    \n",
    "    def getString(self):\n",
    "        while True:\n",
    "            add_string = input(\"\\nWhat is your 'string'?\\n(only a string will be accepted)\\n(enter 'return' to go back) \")\n",
    "            if add_string.lower() == 'return':\n",
    "                return runStrings()\n",
    "            else: \n",
    "                try:\n",
    "                    int_string = int(add_string)\n",
    "                    float_string = float(add_string)\n",
    "                    print('\\nPlease only input a string.')\n",
    "                except:\n",
    "                    self.strings.append(add_string)\n",
    "                    pass\n",
    "                        \n",
    "    def printString(self):\n",
    "        for string in self.strings:\n",
    "            print(string.upper())\n",
    "            \n",
    "your_strings = Strings([])\n",
    "                \n",
    "def runStrings():\n",
    "    while True:\n",
    "        option = input('\\nWhat do you want to do?\\nenter:(add/print/quit) ')\n",
    "        \n",
    "        if option.lower() == 'quit':\n",
    "            print('Goodbye')\n",
    "            break\n",
    "        elif option.lower() == 'add':\n",
    "            return your_strings.getString()\n",
    "        elif option.lower() == 'print':\n",
    "            return your_strings.printString()\n",
    "        else:\n",
    "            print('You may only select add, print, or quit')\n",
    "            pass\n",
    "                        \n",
    "runStrings()         \n",
    "        "
   ]
  },
  {
   "cell_type": "code",
   "execution_count": null,
   "metadata": {},
   "outputs": [],
   "source": []
  },
  {
   "cell_type": "code",
   "execution_count": null,
   "metadata": {},
   "outputs": [],
   "source": []
  }
 ],
 "metadata": {
  "colab": {
   "name": "Python Document IV.ipynb",
   "provenance": []
  },
  "kernelspec": {
   "display_name": "Python 3 (ipykernel)",
   "language": "python",
   "name": "python3"
  },
  "language_info": {
   "codemirror_mode": {
    "name": "ipython",
    "version": 3
   },
   "file_extension": ".py",
   "mimetype": "text/x-python",
   "name": "python",
   "nbconvert_exporter": "python",
   "pygments_lexer": "ipython3",
   "version": "3.9.12"
  }
 },
 "nbformat": 4,
 "nbformat_minor": 1
}
